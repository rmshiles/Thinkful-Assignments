{
 "cells": [
  {
   "cell_type": "markdown",
   "metadata": {},
   "source": [
    "Assignments\n",
    "To help you find your bearings with regard to t-tests, calculate the t-values for the following numbers:\n",
    "\n",
    "1. 𝑦1¯=5 ,  𝑦2¯=8 ,  𝑠1=1 ,  𝑠2=3 ,  𝑁1=200 ,  𝑁2=500 \n",
    "2. 𝑦1¯=1090 ,  𝑦2¯=999 ,  𝑠1=400 ,  𝑠2=30 ,  𝑁1=900 ,  𝑁2=100 \n",
    "3. 𝑦1¯=45 ,  𝑦2¯=40 ,  𝑠1=45 ,  𝑠2=40 ,  𝑁1=2000 ,  𝑁2=2000"
   ]
  },
  {
   "cell_type": "markdown",
   "metadata": {},
   "source": [
    "A **t-test** is a statistical test that calculates the size of the difference between two means given their variance and sample size.  The formula is:\n",
    "\n",
    "$$t = \\frac{\\bar{y_1}-\\bar{y_2}}{\\sqrt{s^2_1/N_1+s^2_2/N_2}}$$\n",
    "\n",
    "$\\bar{y_1}$ and $\\bar{y_2}$ represent the sample means of groups 1 and 2.\n",
    "\n",
    "$s_1$ and $s_2$ represent the sample standard deviations of groups 1 and 2.\n",
    "\n",
    "$N_1$ and $N_2$ represent the sample sizes for groups 1 and 2.\n"
   ]
  },
  {
   "cell_type": "markdown",
   "metadata": {},
   "source": [
    "1. 𝑦1¯=5 ,  𝑦2¯=8 ,  𝑠1=1 ,  𝑠2=3 ,  𝑁1=200 ,  𝑁2=500"
   ]
  },
  {
   "cell_type": "markdown",
   "metadata": {},
   "source": [
    "$$ y1-y1 = 5-8 = -3 $$ \n",
    "\n",
    "$$ 1/200 + 9/500 = 18+5/1000 = 23/1000 $$ \n",
    "\n",
    "$$-3/{\\sqrt{23/1000}}$$\n",
    "\n",
    "$$ -3/0.151657 = 19.78 $$\n",
    "\n",
    "$$t=19.78$$"
   ]
  },
  {
   "cell_type": "markdown",
   "metadata": {},
   "source": [
    "2. 𝑦1¯=1090 , 𝑦2¯=999 , 𝑠1=400 , 𝑠2=30 , 𝑁1=900 , 𝑁2=100\n",
    "\n",
    "$$ 𝑦1−𝑦1=1090−999=91 $$\n",
    "\n",
    "$$s^2_1/N1+s^2_2/N2 = 160000/900 + 900/100 $$\n",
    "\n",
    "$$91/{\\sqrt{168100/900}}$$\n",
    "\n",
    "$$91/13.666 = 6.66$$\n",
    "\n",
    "$$t=6.66$$\n"
   ]
  },
  {
   "cell_type": "markdown",
   "metadata": {},
   "source": [
    "3. 𝑦1¯=45 , 𝑦2¯=40 , 𝑠1=45 , 𝑠2=40 , 𝑁1=2000 , 𝑁2=2000\n",
    "\n",
    "$$ 𝑦1−𝑦1=45−40=5 $$\n",
    "\n",
    "$$s^2_1/N1+s^2_2/N2 = 2025/2000 + 1600/2000 = 3625/2000$$\n",
    "\n",
    "$$5/{\\sqrt{3625/2000}}$$\n",
    "\n",
    "$$5/1.35 = 3.71$$\n",
    "\n",
    "$$t=3.71$$\n"
   ]
  },
  {
   "cell_type": "code",
   "execution_count": null,
   "metadata": {},
   "outputs": [],
   "source": []
  }
 ],
 "metadata": {
  "kernelspec": {
   "display_name": "Python 3",
   "language": "python",
   "name": "python3"
  },
  "language_info": {
   "codemirror_mode": {
    "name": "ipython",
    "version": 3
   },
   "file_extension": ".py",
   "mimetype": "text/x-python",
   "name": "python",
   "nbconvert_exporter": "python",
   "pygments_lexer": "ipython3",
   "version": "3.7.4"
  }
 },
 "nbformat": 4,
 "nbformat_minor": 2
}
