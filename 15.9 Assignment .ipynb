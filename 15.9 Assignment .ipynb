{
 "cells": [
  {
   "cell_type": "markdown",
   "metadata": {},
   "source": [
    "## Assignment\n",
    "\n",
    "To complete this assignment, submit a link to a Jupyter notebook containing your solutions to the following tasks:\n",
    "\n",
    "1. Try to model the result of a coin toss. In your model, include any features that you think important in explaining the result. Discuss with your mentor about the pros and cons of adding too many features into your model.\n",
    "2. If you ever used Netflix, you should already have realized that it provides some recommendations for you to watch. In data science, this is an example of the so-called **recommendations systems**. Read this nontechnical blog post of [Netflix](https://help.netflix.com/en/node/100639) about how they model their recommendations systems. Then, derive the features they use in their recommendations engines and discuss what else can be incorporated into this model. \n",
    "\n",
    "Submit your work below, and plan on discussing with your mentor. You can also take a look at these [example solutions](https://github.com/Thinkful-Ed/data-201-assignment-solutions/blob/master/model_prep_models_in_data_science/solution.ipynb)."
   ]
  },
  {
   "cell_type": "markdown",
   "metadata": {},
   "source": [
    "## 1. Try to model the result of a coin toss. In your model, include any features that you think important in explaining the result. Discuss with your mentor about the pros and cons of adding too many features into your model.\n"
   ]
  },
  {
   "cell_type": "markdown",
   "metadata": {},
   "source": [
    "### Major Features-\n",
    "- the torsional force applied to the coin when it leaves the hand \n",
    "- the uniformity of density in the coin \n",
    "- the shape and size of the coin\n",
    "- how high the coin was flipped\n",
    "- the material the coin was made of \n",
    "- the material surface the coin landed on \n",
    "- the leveness of the surface the coin landed on \n",
    "- the force normal of the coin the flipping device(hand) and the surface it lands on\n",
    "- the gravity acting on that coin(if we are to consider other planets or even certain parts of the earth )  \n",
    "### Minor features\n",
    "- the density of the atmosphere where the coin was fliped\n",
    "- if the coin has any magnetic properties how they may have been influenced by EMF\n",
    "- the flexability of the coins metal\n",
    "\n",
    "I think that a lot of these features can be ignored if we can assume certain conditions to be normally distributed over a small range such as if we are flipping a coin in one spot on a perfectly level surface and the coins density is evenly distributed and the shape is even with out bumps or ridges. we could even take it a step further by having a robot flip the coin in such a precise way applying a specific amount of torsional force and applied force. even with this there are still variables that may com into play but are highly unlikely. \n",
    "\n"
   ]
  },
  {
   "cell_type": "code",
   "execution_count": null,
   "metadata": {},
   "outputs": [],
   "source": []
  },
  {
   "cell_type": "markdown",
   "metadata": {},
   "source": [
    "## 2.If you ever used Netflix, you should already have realized that it provides some recommendations for you to watch. In data science, this is an example of the so-called recommendations systems. Read this nontechnical blog post of Netflix about how they model their recommendations systems. Then, derive the features they use in their recommendations engines and discuss what else can be incorporated into this model."
   ]
  },
  {
   "cell_type": "markdown",
   "metadata": {},
   "source": [
    "### Features that the blog post describes are likely used to determine things such as  \n",
    "\n",
    "- your interactions with our service \n",
    "\n",
    "- viewing history \n",
    "\n",
    "- how you rated other titles\n",
    "\n",
    "- preferences for movie genre, and categories, \n",
    "\n",
    "- preferences for actors,\n",
    "\n",
    "- preferences for release year\n",
    "\n",
    "- time of day you likely watch \n",
    "\n",
    "- who is watching \n",
    "\n",
    "- how many are watching \n",
    "\n",
    "- other groups that share similar tastes and preferences on our service\n",
    "\n",
    "- what sort of deviece you are watching on\n",
    "\n",
    "\n",
    " This may be able to give netflix information on who is watching who are they watching netflix with and what they prefer to watch. \n"
   ]
  },
  {
   "cell_type": "markdown",
   "metadata": {},
   "source": [
    "### Additional features that might be useful \n",
    "\n",
    "- reocuring themes in viewing that may not fall under genra or could be more specific ( robots and AI, Magic creatures, Space, Fam\n",
    "- actors that customers may like to watch \n",
    "- directors that customers like to watch \n",
    "- writers and editors that customers like to watch \n",
    "- length of film customers like to watch \n",
    "- lenght of series (how many episodes to customers like to watch)\n",
    "- types of special effects that customers like to see\n",
    "- visual qualities of the film color themes tones \n",
    "- emotional depth is it a real tear jerker or could it be placed in the camp genra\n",
    "- languages "
   ]
  }
 ],
 "metadata": {
  "kernelspec": {
   "display_name": "Python 3",
   "language": "python",
   "name": "python3"
  },
  "language_info": {
   "codemirror_mode": {
    "name": "ipython",
    "version": 3
   },
   "file_extension": ".py",
   "mimetype": "text/x-python",
   "name": "python",
   "nbconvert_exporter": "python",
   "pygments_lexer": "ipython3",
   "version": "3.7.4"
  }
 },
 "nbformat": 4,
 "nbformat_minor": 2
}
