{
 "cells": [
  {
   "cell_type": "markdown",
   "metadata": {},
   "source": [
    "## Assignment: predicting house prices\n",
    "Now, it's your turn to design your first regression model. In this module, you'll be using a version of the \"House Prices\" dataset from Kaggle that we've ported to a Postgres database. This dataset consists of 79 variables describing many aspects of residential homes in Ames, Iowa. Using this data, your task will be to predict the prices of the houses. You can find the descriptions of the variables here: House Prices\n",
    "\n",
    "To complete this assignment, create a Jupyter notebook containing your solutions to the following tasks:\n",
    "\n",
    "- Load the dataset from the Thinkful PostgreSQL database. You can look at the example above for inspiration on how to generate the database engine URL. You'll need the following values:\n",
    "    \n",
    "    postgres_user = 'dsbc_student'\n",
    "    \n",
    "    postgres_pw = '7*.8G9QH21'\n",
    "    \n",
    "    postgres_host = '142.93.121.174'\n",
    "    \n",
    "    postgres_port = '5432'\n",
    "    \n",
    "    postgres_db = 'houseprices'\n",
    "    \n",
    "- Please follow the example above and call engine.dispose() when you no longer need to make db queries. You need to be in the habit of responsibly managing database connections, and the database only supports a limited number of connections.\n",
    "- Investigate the data, and do any necessary data cleaning.\n",
    "- Explore the data and find some variables that you think would be useful in predicting house prices.\n",
    "- Build your initial model using these features and estimate the parameters using OLS.\n",
    "- Spend up to 4 hours on this assignment. When you are done and have submitted a link to your notebook below, feel free to take a look at this example solution."
   ]
  },
  {
   "cell_type": "code",
   "execution_count": null,
   "metadata": {},
   "outputs": [],
   "source": []
  }
 ],
 "metadata": {
  "kernelspec": {
   "display_name": "Python 3",
   "language": "python",
   "name": "python3"
  },
  "language_info": {
   "codemirror_mode": {
    "name": "ipython",
    "version": 3
   },
   "file_extension": ".py",
   "mimetype": "text/x-python",
   "name": "python",
   "nbconvert_exporter": "python",
   "pygments_lexer": "ipython3",
   "version": "3.7.4"
  }
 },
 "nbformat": 4,
 "nbformat_minor": 2
}
