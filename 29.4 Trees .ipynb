{
 "cells": [
  {
   "cell_type": "markdown",
   "metadata": {},
   "source": [
    "## DRILL:\n",
    "\n",
    "- Implement a binary tree, which is filled with 15 pieces of random data. \n",
    "- Your job is to then write a program to traverse the tree using a breadth first traversal.\n",
    "- If you want additional practice, try other forms of traversal."
   ]
  },
  {
   "cell_type": "code",
   "execution_count": 141,
   "metadata": {},
   "outputs": [],
   "source": [
    "class Que(object):\n",
    "    def __init__(self):\n",
    "            self.items = []\n",
    "    \n",
    "    def enqueue(self,item):\n",
    "        self.items.insert(0,item)\n",
    "    \n",
    "    def dequeue(self):\n",
    "        if not self.is_empty():\n",
    "            return self.items.pop()\n",
    "    \n",
    "    def is_empty(self):\n",
    "        return len(self.items) == 0\n",
    "   \n",
    "    def peek(self):\n",
    "        if not self.is_empty():\n",
    "            return self.items[-1].value\n",
    "    def __len__(self):\n",
    "        return self.size()\n",
    "    \n",
    "    def size(self):\n",
    "        return len(self.items)"
   ]
  },
  {
   "cell_type": "code",
   "execution_count": 142,
   "metadata": {},
   "outputs": [],
   "source": [
    "#define the node \n",
    "class Node(object):\n",
    "    def __init__(self, value):\n",
    "        self.left = None\n",
    "        self.right = None\n",
    "        self.value = value\n",
    "        \n",
    "        "
   ]
  },
  {
   "cell_type": "code",
   "execution_count": 143,
   "metadata": {},
   "outputs": [],
   "source": [
    "#create the tree\n",
    "class BianaryTree(object):\n",
    "    def __init__(self,root):\n",
    "        self.root = Node(root)\n"
   ]
  },
  {
   "cell_type": "code",
   "execution_count": 176,
   "metadata": {},
   "outputs": [],
   "source": [
    "class BianaryTree(object):\n",
    "    def __init__(self,root):\n",
    "        self.root = Node(root)\n",
    "\n",
    "\n",
    "    #define the functions to print the tree in various ways \n",
    "    def print_tree(self, traversal_type):\n",
    "        if traversal_type == 'preorder':\n",
    "            return self.preorder_print(tree.root,\"\")\n",
    "\n",
    "        elif traversal_type == 'inorder':\n",
    "            return self.inorder_print(tree.root,\"\")\n",
    "\n",
    "        elif traversal_type == 'postorder':\n",
    "            return self.postorder_print(tree.root,\"\")\n",
    "\n",
    "        elif traversal_type == 'levelorder':\n",
    "            return self.levelorder_print(tree.root,\"\")\n",
    "\n",
    "        else:\n",
    "            print(\"traversal type\"+ str(traversal_type)+ \"is not suported.\")\n",
    "            return False\n",
    "\n",
    "    def preorder_print(self, start, traversal):\n",
    "    #root ->Left->Right\n",
    "        if start:\n",
    "            traversal += (str(start.value)+\"-\")\n",
    "            #traversal += ((start.value)+\"-\")\n",
    "\n",
    "            traversal = self.preorder_print(start.left, traversal)\n",
    "            traversal = self.preorder_print(start.right, traversal)\n",
    "            return traversal\n",
    "\n",
    "    def inorder_print(self, start, traversal): \n",
    "        #Left-> Root->Right\n",
    "        if start:\n",
    "            traversal = self.inorder_print(start.left, traversal)\n",
    "            traversal +=(str(start.value)+\"-\")\n",
    "            traversal = self.inorder_print(start.right, traversal)\n",
    "        return traversal\n",
    "\n",
    "    def postorder_print(self, start, traversal): \n",
    "        #Left-> Right->Root\n",
    "        if start:\n",
    "            traversal = self.inorder_print(start.left, traversal)\n",
    "            traversal = self.inorder_print(start.right, traversal)\n",
    "            traversal +=(str(start.value)+\"-\")\n",
    "        return traversal\n",
    "\n",
    "    def levelorder_print(self, start):\n",
    "        if start is None:\n",
    "            return\n",
    "        queue = Queue()\n",
    "        queue.enqueue(start)\n",
    "        traversal = \"\"\n",
    "        while len(queue) > 0:\n",
    "            traversal +=str(queue.peek())+\"-\"\n",
    "            node = queue.dequeue()\n",
    "\n",
    "            if node.left:\n",
    "                queue.enqueue(node.left)\n",
    "            if node.right:\n",
    "                queue.enqueue(node.right)\n",
    "        return traversal"
   ]
  },
  {
   "cell_type": "code",
   "execution_count": 177,
   "metadata": {},
   "outputs": [],
   "source": [
    "# http://tolweb.org/Felidae/16006\n",
    "#               Felidae\n",
    "#             /         \\\n",
    "# Pantherinae              Felinae\n",
    "#    /     \\              /         \\\n",
    "#Panthera  Panthera       lynx        felis\n",
    "#   / \\     /    \\       /     \\     /    \\\n",
    "#leo onca tigris pardus Rufus lynx   catus  manul\n",
    "      \n",
    "        # Establish the initial root node and children\n",
    "tree = BinaryTree(\"Felidae\")\n",
    "#tree.root = Node('Felidae')\n",
    "tree.root.left = Node('Pantherinae')\n",
    "tree.root.right = Node('Felinae')\n",
    "\n",
    "# Add the appropriate children for ‘Pantherinae’ and ‘Felinae’\n",
    "tree.root.left.left = Node('Panthera1')\n",
    "tree.root.left.right = Node('Panthera2')\n",
    "tree.root.right.left = Node('lynx')\n",
    "tree.root.right.right = Node('felis')\n",
    "\n",
    "# Add the appropriate children for ‘lynx’ and ‘felis’\n",
    "tree.root.right.left.left = Node('Rufus')\n",
    "tree.root.right.left.right = Node('lynx')\n",
    "tree.root.right.right.left = Node('catus')\n",
    "tree.root.right.right.right = Node('felis')\n",
    "\n",
    "# Add the appropriate children for ‘Panthera1’ and ‘Panthera2’\n",
    "tree.root.left.left.left = Node('leo')\n",
    "tree.root.left.left.right = Node('onca')\n",
    "tree.root.left.right.left = Node('tigris')\n",
    "tree.root.left.right.right = Node('pardus')\n"
   ]
  },
  {
   "cell_type": "code",
   "execution_count": 178,
   "metadata": {},
   "outputs": [
    {
     "name": "stdout",
     "output_type": "stream",
     "text": [
      "Felidae-Pantherinae-Panthera1-leo-onca-Panthera2-tigris-pardus-Felinae-lynx-Rufus-lynx-felis-catus-felis-\n",
      "leo-Panthera1-onca-Pantherinae-tigris-Panthera2-pardus-Felidae-Rufus-lynx-lynx-Felinae-catus-felis-felis-\n",
      "leo-onca-Panthera1-tigris-pardus-Panthera2-Pantherinae-Rufus-lynx-lynx-catus-felis-felis-Felinae-Felidae-\n",
      "Traversal type levelorder is not supported.\n",
      "False\n"
     ]
    }
   ],
   "source": [
    "print(tree.print_tree(\"preorder\"))\n",
    "print(tree.print_tree(\"inorder\"))\n",
    "print(tree.print_tree(\"postorder\"))\n",
    "print(tree.print_tree(\"levelorder\"))"
   ]
  },
  {
   "cell_type": "markdown",
   "metadata": {},
   "source": [
    "## Stop"
   ]
  },
  {
   "cell_type": "code",
   "execution_count": null,
   "metadata": {},
   "outputs": [],
   "source": []
  },
  {
   "cell_type": "code",
   "execution_count": null,
   "metadata": {},
   "outputs": [],
   "source": []
  }
 ],
 "metadata": {
  "kernelspec": {
   "display_name": "Python 3",
   "language": "python",
   "name": "python3"
  },
  "language_info": {
   "codemirror_mode": {
    "name": "ipython",
    "version": 3
   },
   "file_extension": ".py",
   "mimetype": "text/x-python",
   "name": "python",
   "nbconvert_exporter": "python",
   "pygments_lexer": "ipython3",
   "version": "3.7.4"
  }
 },
 "nbformat": 4,
 "nbformat_minor": 2
}
