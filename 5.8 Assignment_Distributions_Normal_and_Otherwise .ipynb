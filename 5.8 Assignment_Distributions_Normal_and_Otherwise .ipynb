{
 "cells": [
  {
   "cell_type": "code",
   "execution_count": 74,
   "metadata": {},
   "outputs": [
    {
     "name": "stdout",
     "output_type": "stream",
     "text": [
      "it seems that a high number the population fall within one standard deviation from the mean.\n",
      "the mean also seems to predict the mean also seems highly predicive of the value\n"
     ]
    },
    {
     "data": {
      "image/png": "[encoded data removed]",
      "text/plain": [
       "<Figure size 432x288 with 1 Axes>"
      ]
     },
     "metadata": {
      "needs_background": "light"
     },
     "output_type": "display_data"
    }
   ],
   "source": [
    "#Choose 6 distributions from the list of random distributions \n",
    "#available in NumPy, called “Distributions”\n",
    "\n",
    "import numpy as np\n",
    "import pandas as pd\n",
    "import matplotlib.pyplot as plt\n",
    "import statistics\n",
    "#from numpy.random import MT19937\n",
    "#from numpy.random import RandomState\n",
    "\n",
    "\n",
    "#RandomState.beta(1,10)\n",
    "#rand = pd.DataFrame()\n",
    "r = np.random.standard_cauchy(100)\n",
    "r = r[(r>-25) & (r<25)]  # truncate distribution so it plots well\n",
    "\n",
    "# Add a vertical line at the mean and a line one standard deviation from the mean.\n",
    "plt.axvline(r.mean(), color='b', linestyle='solid', linewidth=2, alpha = .5)\n",
    "plt.axvline(r.mean() + r.std(), color='b', linestyle='dashed', linewidth=2, alpha = .5)\n",
    "plt.axvline(r.mean()-r.std(), color='b', linestyle='dashed', linewidth=2, alpha = .5) \n",
    "\n",
    "plt.hist(r, bins=100, color = 'orange')\n",
    "plt.show\n",
    "print('It seems that a high number the population fall within one standard deviation from the mean.')\n",
    "print('The mean also seems to predict the mean also seems highly predicive of the value.')\n",
    "#data.describe()# use .describe to attain standard deviation and other description stats \n",
    "#distributionvar = np.random.standard_normal([500], 100),\n"
   ]
  },
  {
   "cell_type": "code",
   "execution_count": 71,
   "metadata": {},
   "outputs": [
    {
     "name": "stdout",
     "output_type": "stream",
     "text": [
      " it seems that the mean and standard deviation are poor describers of this distribution type, because it is a one sided distribution \n"
     ]
    },
    {
     "data": {
      "image/png": "[encoded data removed]",
      "text/plain": [
       "<Figure size 432x288 with 1 Axes>"
      ]
     },
     "metadata": {
      "needs_background": "light"
     },
     "output_type": "display_data"
    }
   ],
   "source": [
    "\n",
    "#RandomState.beta(1,10)\n",
    "#rand = pd.DataFrame()\n",
    "r = np.random.pareto(5,100)\n",
    "r = r[(r>-25) & (r<25)]  # truncate distribution so it plots well\n",
    "\n",
    "# Add a vertical line at the mean and a line one standard deviation from the mean.\n",
    "plt.axvline(r.mean(), color='b', linestyle='solid', linewidth=2, alpha = .5)\n",
    "plt.axvline(r.mean() + r.std(), color='b', linestyle='dashed', linewidth=2, alpha = .5)\n",
    "plt.axvline(r.mean()-r.std(), color='b', linestyle='dashed', linewidth=2, alpha = .5) \n",
    "\n",
    "plt.hist(r, bins=100, color = 'orange')\n",
    "plt.show\n",
    "print(' it seems that the mean and standard deviation are poor describers of this distribution type, because it is a one sided distribution ')\n",
    "#data.describe()# use .describe to attain standard deviation and other description stats \n",
    "#distributionvar = np.random.standard_normal([500], 100),\n"
   ]
  },
  {
   "cell_type": "code",
   "execution_count": 53,
   "metadata": {},
   "outputs": [
    {
     "data": {
      "text/plain": [
       "<function matplotlib.pyplot.show(*args, **kw)>"
      ]
     },
     "execution_count": 53,
     "metadata": {},
     "output_type": "execute_result"
    },
    {
     "data": {
      "image/png": "[encoded data removed]",
      "text/plain": [
       "<Figure size 432x288 with 1 Axes>"
      ]
     },
     "metadata": {
      "needs_background": "light"
     },
     "output_type": "display_data"
    }
   ],
   "source": [
    "#RandomState.beta(1,10)\n",
    "#rand = pd.DataFrame()\n",
    "r = np.random.poisson(5,1000)\n",
    "r = r[(r>-25) & (r<25)]  # truncate distribution so it plots well\n",
    "\n",
    "# Add a vertical line at the mean and a line one standard deviation from the mean.\n",
    "plt.axvline(r.mean(), color='b', linestyle='solid', linewidth=2, alpha = .5)\n",
    "plt.axvline(r.mean() + r.std(), color='b', linestyle='dashed', linewidth=2, alpha = .5)\n",
    "plt.axvline(r.mean()-r.std(), color='b', linestyle='dashed', linewidth=2, alpha = .5) \n",
    "\n",
    "plt.hist(r, bins=100, color = 'orange')\n",
    "plt.show\n",
    "#data.describe()# use .describe to attain standard deviation and other description stats \n",
    "#distributionvar = np.random.standard_normal([500], 100),\n"
   ]
  },
  {
   "cell_type": "code",
   "execution_count": 60,
   "metadata": {},
   "outputs": [
    {
     "data": {
      "text/plain": [
       "<function matplotlib.pyplot.show(*args, **kw)>"
      ]
     },
     "execution_count": 60,
     "metadata": {},
     "output_type": "execute_result"
    },
    {
     "data": {
      "image/png": "[encoded data removed]",
      "text/plain": [
       "<Figure size 432x288 with 1 Axes>"
      ]
     },
     "metadata": {
      "needs_background": "light"
     },
     "output_type": "display_data"
    }
   ],
   "source": [
    "#RandomState.beta(1,10)\n",
    "#rand = pd.DataFrame()\n",
    "r = np.random.standard_exponential(100)\n",
    "r = r[(r>-25) & (r<25)]  # truncate distribution so it plots well\n",
    "\n",
    "# Add a vertical line at the mean and a line one standard deviation from the mean.\n",
    "plt.axvline(r.mean(), color='b', linestyle='solid', linewidth=2, alpha = .5)\n",
    "plt.axvline(r.mean() + r.std(), color='b', linestyle='dashed', linewidth=2, alpha = .5)\n",
    "plt.axvline(r.mean()-r.std(), color='b', linestyle='dashed', linewidth=2, alpha = .5) \n",
    "\n",
    "plt.hist(r, bins=100, color = 'orange')\n",
    "plt.show\n",
    "#data.describe()# use .describe to attain standard deviation and other description stats \n",
    "#distributionvar = np.random.standard_normal([500], 100),\n"
   ]
  },
  {
   "cell_type": "code",
   "execution_count": 75,
   "metadata": {},
   "outputs": [
    {
     "name": "stdout",
     "output_type": "stream",
     "text": [
      "the Mean and standard deviation tell us verry little about the distribution of the lognormal function\n"
     ]
    },
    {
     "data": {
      "image/png": "[encoded data removed]",
      "text/plain": [
       "<Figure size 432x288 with 1 Axes>"
      ]
     },
     "metadata": {
      "needs_background": "light"
     },
     "output_type": "display_data"
    }
   ],
   "source": [
    "#RandomState.beta(1,10)\n",
    "#rand = pd.DataFrame()\n",
    "r = np.random.lognormal(0,5,100)\n",
    "r = r[(r>-25) & (r<25)]  # truncate distribution so it plots well\n",
    "\n",
    "# Add a vertical line at the mean and a line one standard deviation from the mean.\n",
    "plt.axvline(r.mean(), color='b', linestyle='solid', linewidth=2, alpha = .5)\n",
    "plt.axvline(r.mean() + r.std(), color='b', linestyle='dashed', linewidth=2, alpha = .5)\n",
    "plt.axvline(r.mean()-r.std(), color='b', linestyle='dashed', linewidth=2, alpha = .5) \n",
    "\n",
    "plt.hist(r, bins=100, color = 'orange')\n",
    "plt.show\n",
    "print('The mean and standard deviation tell us verry little about the distribution of the lognormal function')\n",
    "#data.describe()# use .describe to attain standard deviation and other description stats \n",
    "#distributionvar = np.random.standard_normal([500], 100),\n"
   ]
  },
  {
   "cell_type": "code",
   "execution_count": 66,
   "metadata": {},
   "outputs": [
    {
     "data": {
      "text/plain": [
       "<function matplotlib.pyplot.show(*args, **kw)>"
      ]
     },
     "execution_count": 66,
     "metadata": {},
     "output_type": "execute_result"
    },
    {
     "data": {
      "image/png": "[encoded data removed]",
      "text/plain": [
       "<Figure size 432x288 with 1 Axes>"
      ]
     },
     "metadata": {
      "needs_background": "light"
     },
     "output_type": "display_data"
    }
   ],
   "source": [
    "#RandomState.beta(1,10)\n",
    "#rand = pd.DataFrame()\n",
    "r = np.random.triangular(0,5,10,100)\n",
    "r = r[(r>-25) & (r<25)]  # truncate distribution so it plots well\n",
    "\n",
    "# Add a vertical line at the mean and a line one standard deviation from the mean.\n",
    "plt.axvline(r.mean(), color='b', linestyle='solid', linewidth=2, alpha = .5)\n",
    "plt.axvline(r.mean() + r.std(), color='b', linestyle='dashed', linewidth=2, alpha = .5)\n",
    "plt.axvline(r.mean()-r.std(), color='b', linestyle='dashed', linewidth=2, alpha = .5) \n",
    "\n",
    "plt.hist(r, bins=100, color = 'orange')\n",
    "plt.show\n",
    "#data.describe()# use .describe to attain standard deviation and other description stats \n",
    "#distributionvar = np.random.standard_normal([500], 100),\n"
   ]
  },
  {
   "cell_type": "code",
   "execution_count": 70,
   "metadata": {},
   "outputs": [
    {
     "data": {
      "text/plain": [
       "<function matplotlib.pyplot.show(*args, **kw)>"
      ]
     },
     "execution_count": 70,
     "metadata": {},
     "output_type": "execute_result"
    },
    {
     "data": {
      "image/png": "[encoded data removed]",
      "text/plain": [
       "<Figure size 432x288 with 1 Axes>"
      ]
     },
     "metadata": {
      "needs_background": "light"
     },
     "output_type": "display_data"
    }
   ],
   "source": [
    "#RandomState.beta(1,10)\n",
    "#rand = pd.DataFrame()\n",
    "r = np.random.weibull(5,100)\n",
    "r = r[(r>-25) & (r<25)]  # truncate distribution so it plots well\n",
    "\n",
    "# Add a vertical line at the mean and a line one standard deviation from the mean.\n",
    "plt.axvline(r.mean(), color='b', linestyle='solid', linewidth=2, alpha = .5)\n",
    "plt.axvline(r.mean() + r.std(), color='b', linestyle='dashed', linewidth=2, alpha = .5)\n",
    "plt.axvline(r.mean()-r.std(), color='b', linestyle='dashed', linewidth=2, alpha = .5) \n",
    "\n",
    "plt.hist(r, bins=100, color = 'orange')\n",
    "plt.show\n",
    "#data.describe()# use .describe to attain standard deviation and other description stats \n",
    "#distributionvar = np.random.standard_normal([500], 100),\n"
   ]
  },
  {
   "cell_type": "code",
   "execution_count": 135,
   "metadata": {},
   "outputs": [
    {
     "name": "stdout",
     "output_type": "stream",
     "text": [
      "mean of combined data = 14.963401814799298\n",
      "median of combined data = 14.978015687546634\n",
      "mode of combined data = 12.633606781937345\n",
      "Variance of combined data = 1.0075812362814227\n",
      "standard Dev of combined data = 1.0037834608526994\n"
     ]
    },
    {
     "data": {
      "image/png": "[encoded data removed]",
      "text/plain": [
       "<Figure size 432x288 with 1 Axes>"
      ]
     },
     "metadata": {
      "needs_background": "light"
     },
     "output_type": "display_data"
    }
   ],
   "source": [
    "mean = [5,10]\n",
    "standard_dev = [0.5,1]\n",
    "size = 100\n",
    "\n",
    "dataframe0 = np.random.normal(mean[0], standard_dev[0], size)\n",
    "\n",
    "dataframe1 = np.random.normal(mean[1], standard_dev[1], size)\n",
    "\n",
    "dataframe2= dataframe1+dataframe0\n",
    "\n",
    "dataframe3= np.concatenate((dataframe1,dataframe0))\n",
    "\n",
    "plt.hist(dataframe0, color='red', alpha = .5)\n",
    "plt.axvline(dataframe0.mean(), color='purple', linestyle='solid', linewidth=2, alpha = .5)\n",
    "plt.axvline(dataframe0.mean() + dataframe0.std(), color='purple', linestyle='dashed', linewidth=2, alpha = .5)\n",
    "plt.axvline(dataframe0.mean()-dataframe0.std(), color='purple', linestyle='dashed', linewidth=2, alpha = .5) \n",
    "\n",
    "\n",
    "\n",
    "plt.hist(dataframe1, color='blue', alpha = .5)\n",
    "plt.axvline(dataframe1.mean(), color='g', linestyle='solid', linewidth=2, alpha = .5)\n",
    "plt.axvline(dataframe1.mean() + dataframe1.std(), color='g', linestyle='dashed', linewidth=2, alpha = .5)\n",
    "plt.axvline(dataframe1.mean()-dataframe1.std(), color='g', linestyle='dashed', linewidth=2, alpha = .5) \n",
    "\n",
    "\n",
    "plt.hist(dataframe2, color='y', alpha = .5)\n",
    "plt.axvline(dataframe2.mean(), color='orange', linestyle='solid', linewidth=2, alpha = .5)\n",
    "plt.axvline(dataframe2.mean() + dataframe2.std(), color='orange', linestyle='dashed', linewidth=2, alpha = .5)\n",
    "plt.axvline(dataframe2.mean()-dataframe2.std(), color='orange', linestyle='dashed', linewidth=2, alpha = .5) \n",
    "\n",
    "print('mean of combined data =', statistics.mean(dataframe2))\n",
    "print('median of combined data =',statistics.median(dataframe2))\n",
    "(values, counts) = np.unique(dataframe2, return_counts=True)\n",
    "ind = np.argmax(counts)\n",
    "values[ind]\n",
    "print('mode of combined data =', values[ind])\n",
    "print('Variance of combined data =', np.var(dataframe2))\n",
    "print('Standard Dev of combined data =',np.std(dataframe2))\n",
    "\n",
    "#plt.hist(dataframe3, color='g', alpha = .5)\n",
    "#plt.axvline(dataframe2.mean(), color='g', linestyle='solid', linewidth=2, alpha = .5)\n",
    "#plt.axvline(dataframe2.mean() + dataframe2.std(), color='g', linestyle='dashed', linewidth=2, alpha = .5)\n",
    "#plt.axvline(dataframe2.mean()-dataframe2.std(), color='g', linestyle='dashed', linewidth=2, alpha = .5) \n",
    "\n",
    "\n",
    "\n",
    "plt.show()"
   ]
  },
  {
   "cell_type": "code",
   "execution_count": null,
   "metadata": {},
   "outputs": [],
   "source": []
  },
  {
   "cell_type": "code",
   "execution_count": null,
   "metadata": {},
   "outputs": [],
   "source": []
  }
 ],
 "metadata": {
  "kernelspec": {
   "display_name": "Python 3",
   "language": "python",
   "name": "python3"
  },
  "language_info": {
   "codemirror_mode": {
    "name": "ipython",
    "version": 3
   },
   "file_extension": ".py",
   "mimetype": "text/x-python",
   "name": "python",
   "nbconvert_exporter": "python",
   "pygments_lexer": "ipython3",
   "version": "3.7.4"
  }
 },
 "nbformat": 4,
 "nbformat_minor": 2
}
