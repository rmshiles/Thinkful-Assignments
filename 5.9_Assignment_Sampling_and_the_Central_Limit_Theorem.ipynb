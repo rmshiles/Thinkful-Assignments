{
 "cells": [
  {
   "cell_type": "code",
   "execution_count": 6,
   "metadata": {},
   "outputs": [
    {
     "data": {
      "image/png": "[encoded data removed]",
      "text/plain": [
       "<Figure size 432x288 with 1 Axes>"
      ]
     },
     "metadata": {
      "needs_background": "light"
     },
     "output_type": "display_data"
    },
    {
     "name": "stdout",
     "output_type": "stream",
     "text": [
      "2.0066\n",
      "5.0052\n",
      "1.2633116955051118\n",
      "1.5767602734721597\n",
      "2.9986\n",
      "148.41409663898202\n",
      "Ttest_indResult(statistic=148.40667574862317, pvalue=0.0)\n",
      "i imagine that this code will return a very similar result as in the examples earlier in the chapter with a high Tvalue of around 15 and a very low p value \n"
     ]
    }
   ],
   "source": [
    "import numpy as np\n",
    "import pandas as pd\n",
    "import scipy \n",
    "import matplotlib.pyplot as plt\n",
    "%matplotlib inline\n",
    "\n",
    "\n",
    "\n",
    "\n",
    "pop1 = np.random.binomial(10, 0.2, 10000)\n",
    "pop2 = np.random.binomial(10,0.5, 10000) \n",
    "plt.hist(pop1, alpha=0.5, label='sample 1') \n",
    "plt.hist(pop2, alpha=0.5, label='sample 2') \n",
    "plt.legend(loc='upper right') \n",
    "plt.show()\n",
    "\n",
    "print(pop1.mean())\n",
    "print(pop2.mean())\n",
    "print(pop1.std())\n",
    "print(pop2.std())\n",
    "\n",
    "# Compute the difference between the two sample means.\n",
    "diff=pop2.mean( ) -pop1.mean()\n",
    "print(diff)\n",
    "\n",
    "\n",
    "size = np.array([len(pop1), len(pop2)])\n",
    "sd = np.array([pop1.std(), pop2.std()])\n",
    "\n",
    "# The squared standard deviations are divided by the sample size and summed, then we take\n",
    "# the square root of the sum. \n",
    "diff_se = (sum(sd ** 2 / size)) ** 0.5  \n",
    "\n",
    "#The difference between the means divided by the standard error: T-value.  \n",
    "print(diff/diff_se)\n",
    "\n",
    "from scipy.stats import ttest_ind\n",
    "print(ttest_ind(pop2, pop1, equal_var=False))\n",
    "\n",
    "print('i imagine that this code will return a very similar result as in the examples earlier in the chapter with a high Tvalue of around 15 and a very low p value ')\n"
   ]
  },
  {
   "cell_type": "code",
   "execution_count": 16,
   "metadata": {},
   "outputs": [
    {
     "data": {
      "image/png": "[encoded data removed]",
      "text/plain": [
       "<Figure size 432x288 with 1 Axes>"
      ]
     },
     "metadata": {
      "needs_background": "light"
     },
     "output_type": "display_data"
    },
    {
     "name": "stdout",
     "output_type": "stream",
     "text": [
      "pop3 mean= 19.9555\n",
      "pop4 mean= 49.9565\n",
      "pop3 standDev= 3.9772754179211676\n",
      "pop4 standDev= 5.032356083386787\n",
      "30.000999999999998\n",
      "standard error= 0.0641430647069502\n",
      "T-value= 467.72009003725145\n",
      "Ttest_indResult(statistic=467.6967034480703, pvalue=0.0)\n"
     ]
    }
   ],
   "source": [
    "\n",
    "pop3 = np.random.binomial(100, 0.2, 10000)\n",
    "pop4 = np.random.binomial(100,0.5, 10000) \n",
    "plt.hist(pop3, alpha=0.5, label='sample 1') \n",
    "plt.hist(pop4, alpha=0.5, label='sample 2') \n",
    "plt.legend(loc='upper right') \n",
    "plt.show()\n",
    "\n",
    "print('pop3 mean=',pop3.mean())\n",
    "print('pop4 mean=',pop4.mean())\n",
    "print('pop3 standDev=',pop3.std())\n",
    "print('pop4 standDev=',pop4.std())\n",
    "\n",
    "\n",
    "# Compute the difference between the two sample means.\n",
    "diff=pop4.mean( ) -pop3.mean()\n",
    "print(diff)\n",
    "\n",
    "\n",
    "size = np.array([len(pop3), len(pop4)])\n",
    "sd = np.array([pop3.std(), pop4.std()])\n",
    "\n",
    "# The squared standard deviations are divided by the sample size and summed, then we take\n",
    "# the square root of the sum. \n",
    "diff_se = (sum(sd ** 2 / size)) ** 0.5  \n",
    "print('standard error=', diff_se)\n",
    "#The difference between the means divided by the standard error: T-value.  \n",
    "print('T-value=',diff/diff_se)\n",
    "\n",
    "from scipy.stats import ttest_ind\n",
    "print(ttest_ind(pop4, pop3, equal_var=False))\n",
    "\n"
   ]
  },
  {
   "cell_type": "code",
   "execution_count": 17,
   "metadata": {},
   "outputs": [
    {
     "name": "stdout",
     "output_type": "stream",
     "text": [
      "I believe that the  t-value will get much larger and the calculated value will get closer to the values from the test result when the sample size\n"
     ]
    },
    {
     "data": {
      "image/png": "[encoded data removed]",
      "text/plain": [
       "<Figure size 432x288 with 1 Axes>"
      ]
     },
     "metadata": {
      "needs_background": "light"
     },
     "output_type": "display_data"
    },
    {
     "name": "stdout",
     "output_type": "stream",
     "text": [
      "pop5 mean= 199.8672\n",
      "pop6 mean= 500.0268\n",
      "pop5 standDev= 12.656396175847215\n",
      "pop6 standDev= 15.79450163063083\n",
      "300.15959999999995\n",
      "standard error= 0.20239828208757107\n",
      "T-value= 1483.0145636815769\n",
      "Ttest_indResult(statistic=1482.9404110995317, pvalue=0.0)\n"
     ]
    }
   ],
   "source": [
    "print('I believe that the  t-value will get much larger and the calculated value will get closer to the values from the test result when the sample size')\n",
    "\n",
    "pop5 = np.random.binomial(1000, 0.2, 10000)\n",
    "pop6 = np.random.binomial(1000,0.5, 10000) \n",
    "plt.hist(pop5, alpha=0.5, label='sample 1') \n",
    "plt.hist(pop6, alpha=0.5, label='sample 2') \n",
    "plt.legend(loc='upper right') \n",
    "plt.show()\n",
    "\n",
    "print('pop5 mean=',pop5.mean())\n",
    "print('pop6 mean=',pop6.mean())\n",
    "print('pop5 standDev=',pop5.std())\n",
    "print('pop6 standDev=',pop6.std())\n",
    "\n",
    "\n",
    "# Compute the difference between the two sample means.\n",
    "diff=pop6.mean( ) -pop5.mean()\n",
    "print(diff)\n",
    "\n",
    "\n",
    "size = np.array([len(pop5), len(pop6)])\n",
    "sd = np.array([pop5.std(), pop6.std()])\n",
    "\n",
    "# The squared standard deviations are divided by the sample size and summed, then we take\n",
    "# the square root of the sum. \n",
    "diff_se = (sum(sd ** 2 / size)) ** 0.5  \n",
    "print('standard error=', diff_se)\n",
    "#The difference between the means divided by the standard error: T-value.  \n",
    "print('T-value=',diff/diff_se)\n",
    "\n",
    "from scipy.stats import ttest_ind\n",
    "print(ttest_ind(pop6, pop5, equal_var=False))\n",
    "\n"
   ]
  },
  {
   "cell_type": "code",
   "execution_count": 18,
   "metadata": {},
   "outputs": [
    {
     "name": "stdout",
     "output_type": "stream",
     "text": [
      "I believe that the  t-value will get much smaller \n"
     ]
    },
    {
     "data": {
      "image/png": "[encoded data removed]",
      "text/plain": [
       "<Figure size 432x288 with 1 Axes>"
      ]
     },
     "metadata": {
      "needs_background": "light"
     },
     "output_type": "display_data"
    },
    {
     "name": "stdout",
     "output_type": "stream",
     "text": [
      "pop5 mean= 4.0045\n",
      "pop6 mean= 10.0193\n",
      "pop5 standDev= 1.8063996650796856\n",
      "pop6 standDev= 2.2410996207219345\n",
      "6.014799999999999\n",
      "standard error= 0.028784730778661106\n",
      "T-value= 208.95800784973582\n",
      "Ttest_indResult(statistic=208.94755968813277, pvalue=0.0)\n"
     ]
    }
   ],
   "source": [
    "print('Expectation: I believe that the  t-value will get much smaller ')\n",
    "\n",
    "pop5 = np.random.binomial(20, 0.2, 10000)\n",
    "pop6 = np.random.binomial(20,0.5, 10000) \n",
    "plt.hist(pop5, alpha=0.5, label='sample 1') \n",
    "plt.hist(pop6, alpha=0.5, label='sample 2') \n",
    "plt.legend(loc='upper right') \n",
    "plt.show()\n",
    "\n",
    "print('pop5 mean=',pop5.mean())\n",
    "print('pop6 mean=',pop6.mean())\n",
    "print('pop5 standDev=',pop5.std())\n",
    "print('pop6 standDev=',pop6.std())\n",
    "\n",
    "\n",
    "# Compute the difference between the two sample means.\n",
    "diff=pop6.mean( ) -pop5.mean()\n",
    "print(diff)\n",
    "\n",
    "\n",
    "size = np.array([len(pop5), len(pop6)])\n",
    "sd = np.array([pop5.std(), pop6.std()])\n",
    "\n",
    "# The squared standard deviations are divided by the sample size and summed, then we take\n",
    "# the square root of the sum. \n",
    "diff_se = (sum(sd ** 2 / size)) ** 0.5  \n",
    "print('standard error=', diff_se)\n",
    "#The difference between the means divided by the standard error: T-value.  \n",
    "print('T-value=',diff/diff_se)\n",
    "\n",
    "from scipy.stats import ttest_ind\n",
    "print(ttest_ind(pop6, pop5, equal_var=False))\n",
    "\n"
   ]
  },
  {
   "cell_type": "code",
   "execution_count": 21,
   "metadata": {},
   "outputs": [
    {
     "name": "stdout",
     "output_type": "stream",
     "text": [
      "I believe that the  p value  will get slightly larger because the distribitions are more likely to overlap  \n"
     ]
    },
    {
     "data": {
      "image/png": "[encoded data removed]",
      "text/plain": [
       "<Figure size 432x288 with 1 Axes>"
      ]
     },
     "metadata": {
      "needs_background": "light"
     },
     "output_type": "display_data"
    },
    {
     "name": "stdout",
     "output_type": "stream",
     "text": [
      "pop5 mean= 8.0318\n",
      "pop6 mean= 9.9818\n",
      "pop5 standDev= 2.1877359895563266\n",
      "pop6 standDev= 2.2314275161877877\n",
      "1.9499999999999993\n",
      "standard error= 0.03124973203085108\n",
      "T-value= 62.4005350853849\n",
      "Ttest_indResult(statistic=62.397414980626074, pvalue=0.0)\n"
     ]
    }
   ],
   "source": [
    "print('Expectation:I believe that the  p value  will get slightly larger because the distribitions are more likely to overlap  ')\n",
    "print('Result: it seems that teh T-value gets smaller when the probabilitys are closer and nothing happens to the P value this is ofcourse due to the \n",
    "')\n",
    "pop5 = np.random.binomial(20, 0.4, 10000)\n",
    "pop6 = np.random.binomial(20,0.5, 10000) \n",
    "plt.hist(pop5, alpha=0.5, label='sample 1') \n",
    "plt.hist(pop6, alpha=0.5, label='sample 2') \n",
    "plt.legend(loc='upper right') \n",
    "plt.show()\n",
    "\n",
    "print('pop5 mean=',pop5.mean())\n",
    "print('pop6 mean=',pop6.mean())\n",
    "print('pop5 standDev=',pop5.std())\n",
    "print('pop6 standDev=',pop6.std())\n",
    "\n",
    "\n",
    "# Compute the difference between the two sample means.\n",
    "diff=pop6.mean( ) -pop5.mean()\n",
    "print(diff)\n",
    "\n",
    "\n",
    "size = np.array([len(pop5), len(pop6)])\n",
    "sd = np.array([pop5.std(), pop6.std()])\n",
    "\n",
    "# The squared standard deviations are divided by the sample size and summed, then we take\n",
    "# the square root of the sum. \n",
    "diff_se = (sum(sd ** 2 / size)) ** 0.5  \n",
    "print('standard error=', diff_se)\n",
    "#The difference between the means divided by the standard error: T-value.  \n",
    "print('T-value=',diff/diff_se)\n",
    "\n",
    "from scipy.stats import ttest_ind\n",
    "print(ttest_ind(pop6, pop5, equal_var=False))"
   ]
  },
  {
   "cell_type": "code",
   "execution_count": 27,
   "metadata": {},
   "outputs": [
    {
     "data": {
      "image/png": "[encoded data removed]",
      "text/plain": [
       "<Figure size 432x288 with 1 Axes>"
      ]
     },
     "metadata": {
      "needs_background": "light"
     },
     "output_type": "display_data"
    },
    {
     "name": "stdout",
     "output_type": "stream",
     "text": [
      "pop5 mean= 4.991444349065166\n",
      "pop6 mean= 11.985863143377488\n",
      "pop5 standDev= 2.0539734103220515\n",
      "pop6 standDev= 4.148078793025174\n",
      "6.994418794312322\n",
      "standard error= 0.046287540919188165\n",
      "T-value= 151.10802292400106\n",
      "Ttest_indResult(statistic=151.1004673339604, pvalue=0.0)\n"
     ]
    }
   ],
   "source": [
    "pop5 = np.random.triangular(0,5,10,10000)\n",
    "pop6 = np.random.triangular(2,12,22,10000)\n",
    "plt.hist(pop5, alpha=0.5, label='sample 1') \n",
    "plt.hist(pop6, alpha=0.5, label='sample 2') \n",
    "plt.legend(loc='upper right') \n",
    "plt.show()\n",
    "\n",
    "print('pop5 mean=',pop5.mean())\n",
    "print('pop6 mean=',pop6.mean())\n",
    "print('pop5 standDev=',pop5.std())\n",
    "print('pop6 standDev=',pop6.std())\n",
    "\n",
    "\n",
    "# Compute the difference between the two sample means.\n",
    "diff=pop6.mean( ) -pop5.mean()\n",
    "print(diff)\n",
    "\n",
    "\n",
    "size = np.array([len(pop5), len(pop6)])\n",
    "sd = np.array([pop5.std(), pop6.std()])\n",
    "\n",
    "# The squared standard deviations are divided by the sample size and summed, then we take\n",
    "# the square root of the sum. \n",
    "diff_se = (sum(sd ** 2 / size)) ** 0.5  \n",
    "print('standard error=', diff_se)\n",
    "#The difference between the means divided by the standard error: T-value.  \n",
    "print('T-value=',diff/diff_se)\n",
    "\n",
    "from scipy.stats import ttest_ind\n",
    "print(ttest_ind(pop6, pop5, equal_var=False))"
   ]
  },
  {
   "cell_type": "code",
   "execution_count": null,
   "metadata": {},
   "outputs": [],
   "source": []
  }
 ],
 "metadata": {
  "kernelspec": {
   "display_name": "Python 3",
   "language": "python",
   "name": "python3"
  },
  "language_info": {
   "codemirror_mode": {
    "name": "ipython",
    "version": 3
   },
   "file_extension": ".py",
   "mimetype": "text/x-python",
   "name": "python",
   "nbconvert_exporter": "python",
   "pygments_lexer": "ipython3",
   "version": "3.7.4"
  }
 },
 "nbformat": 4,
 "nbformat_minor": 2
}
