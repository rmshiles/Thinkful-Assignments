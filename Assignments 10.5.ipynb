{
 "cells": [
  {
   "cell_type": "code",
   "execution_count": 111,
   "metadata": {},
   "outputs": [],
   "source": [
    "import numpy as np\n",
    "import math"
   ]
  },
  {
   "cell_type": "code",
   "execution_count": 112,
   "metadata": {},
   "outputs": [],
   "source": [
    "from sqlalchemy import create_engine\n"
   ]
  },
  {
   "cell_type": "code",
   "execution_count": 113,
   "metadata": {},
   "outputs": [],
   "source": [
    "## set up data base credentials \n",
    "##\n",
    "postgres_user = 'dsbc_student'\n",
    "postgres_pw = '7*.8G9QH21'\n",
    "postgres_host = '142.93.121.174'\n",
    "postgres_port = '5432'\n",
    "postgres_db = 'dvdrentals'\n",
    "\n",
    "engine = create_engine('postgresql://{}:{}@{}:{}/{}'.format(\n",
    "    postgres_user,postgres_pw, postgres_host, postgres_port, postgres_db))\n"
   ]
  },
  {
   "cell_type": "markdown",
   "metadata": {},
   "source": [
    "Question 1. \n",
    "How many movies are released for each rating?"
   ]
  },
  {
   "cell_type": "code",
   "execution_count": 114,
   "metadata": {},
   "outputs": [
    {
     "name": "stdout",
     "output_type": "stream",
     "text": [
      "There are 223 films that are rated PG-13 in the database\n",
      "There are 210 films that are rated NC-17 in the database\n",
      "There are 195 films that are rated R in the database\n",
      "There are 194 films that are rated PG in the database\n",
      "There are 178 films that are rated G in the database\n"
     ]
    }
   ],
   "source": [
    "sql = ''' \n",
    "    SELECT rating, COUNT(*)AS number_of_films\n",
    "    FROM film\n",
    "    GROUP BY rating\n",
    "    ORDER BY number_of_films DESC;\n",
    "    '''\n",
    "dvd_rentals = engine.execute(sql)\n",
    "engine.dispose()\n",
    "rows = dvd_rentals.fetchall()\n",
    "for row in rows:\n",
    "    print('There are {} films that are rated {} in the database'.format(\n",
    "        row[1],row[0]))\n",
    "    "
   ]
  },
  {
   "cell_type": "markdown",
   "metadata": {},
   "source": [
    "Question2.What is the average rental duration for each rating?"
   ]
  },
  {
   "cell_type": "code",
   "execution_count": 115,
   "metadata": {},
   "outputs": [
    {
     "name": "stdout",
     "output_type": "stream",
     "text": [
      "[('film_id', 'integer'), ('title', 'character varying'), ('description', 'text'), ('release_year', 'integer'), ('language_id', 'smallint'), ('original_language_id', 'smallint'), ('rental_duration', 'smallint'), ('rental_rate', 'numeric'), ('length', 'smallint'), ('replacement_cost', 'numeric'), ('rating', 'USER-DEFINED'), ('last_update', 'timestamp without time zone'), ('special_features', 'ARRAY'), ('fulltext', 'tsvector')]\n"
     ]
    }
   ],
   "source": [
    "sql = ''' \n",
    "    SELECT column_name, data_type\n",
    "    FROM information_schema.columns\n",
    "    WHERE table_name='film'\n",
    "    ;\n",
    "    '''\n",
    "dvd_rentals = engine.execute(sql)\n",
    "engine.dispose()\n",
    "rows = dvd_rentals.fetchall()\n",
    "\n",
    "print(rows)\n",
    "\n",
    "#for row in rows:\n",
    "   # print('There are {} films that are rated {} in the database'.format(\n",
    "    #    row[1],row[0]))\n",
    "    "
   ]
  },
  {
   "cell_type": "code",
   "execution_count": 116,
   "metadata": {},
   "outputs": [
    {
     "name": "stdout",
     "output_type": "stream",
     "text": [
      "For movies rated NC-17 the average rental duration was 5.14 days\n",
      "For movies rated PG the average rental duration was 5.08 days\n",
      "For movies rated PG-13 the average rental duration was 5.05 days\n",
      "For movies rated G the average rental duration was 4.84 days\n",
      "For movies rated R the average rental duration was 4.77 days\n"
     ]
    }
   ],
   "source": [
    "sql = ''' \n",
    "    SELECT rating, ROUND(AVG(rental_duration),2) AS avg_rental_time\n",
    "    FROM film\n",
    "    GROUP BY rating \n",
    "    ORDER BY avg_rental_time DESC\n",
    "    ;\n",
    "    '''\n",
    "# \n",
    "dvd_rentals = engine.execute(sql)\n",
    "engine.dispose()\n",
    "rows = dvd_rentals.fetchall()\n",
    "\n",
    "\n",
    "for row in rows:\n",
    "    print('For movies rated {} the average rental duration was {} days'.format(\n",
    "        row[0],row[1]))\n",
    "    "
   ]
  },
  {
   "cell_type": "markdown",
   "metadata": {},
   "source": [
    "Question 3. What is the mean movie length? Calculate this by defining a function."
   ]
  },
  {
   "cell_type": "code",
   "execution_count": 117,
   "metadata": {
    "scrolled": true
   },
   "outputs": [
    {
     "name": "stdout",
     "output_type": "stream",
     "text": [
      "The average film lenght is 115.272\n"
     ]
    }
   ],
   "source": [
    "\n",
    "film_data = engine.execute('SELECT COUNT(*),SUM(length) FROM film;')\n",
    "engine.dispose()\n",
    "film_info = film_data.first()\n",
    "num_film = film_info[0]\n",
    "tot_len_film = film_info[1]\n",
    "\n",
    "mean_film_length = (tot_len_film/num_film)\n",
    "\n",
    "print('The average film lenght is {}'.format(mean_film_length))"
   ]
  },
  {
   "cell_type": "code",
   "execution_count": null,
   "metadata": {},
   "outputs": [],
   "source": []
  },
  {
   "cell_type": "markdown",
   "metadata": {},
   "source": [
    "What is the median movie length? Calculate this by defining a function."
   ]
  },
  {
   "cell_type": "code",
   "execution_count": 132,
   "metadata": {},
   "outputs": [
    {
     "name": "stdout",
     "output_type": "stream",
     "text": [
      "The median film lenght is 114.0\n"
     ]
    }
   ],
   "source": [
    "def median(numbers):\n",
    "    numbers.sort()\n",
    "    length = len(numbers)\n",
    "    isEven = length % 2 == 0\n",
    "    \n",
    "    if (isEven):\n",
    "        mid = math.floor(length / 2)\n",
    "        a = numbers[mid]\n",
    "        b = numbers[mid + 1]\n",
    "        answer = (a+b)/2\n",
    "    else:\n",
    "        answer = numbers[math.floor(length/2)]\n",
    "    return answer\n",
    "\n",
    "sql = '''\n",
    "    SELECT \n",
    "        length \n",
    "    FROM \n",
    "        film;\n",
    "    '''\n",
    "film_lengths = engine.execute(sql)\n",
    "engine.dispose()\n",
    "\n",
    "rows= film_lengths.fetchall()\n",
    "\n",
    "\n",
    "lengths =  [ x ['length']for x in rows]\n",
    "\n",
    "print('The median film length is {}'.format(median(lengths)))"
   ]
  },
  {
   "cell_type": "markdown",
   "metadata": {},
   "source": [
    "Question 5.Calculate the standard deviation of the movie lengths. Calculate this by defining a function."
   ]
  },
  {
   "cell_type": "code",
   "execution_count": 143,
   "metadata": {},
   "outputs": [
    {
     "name": "stdout",
     "output_type": "stream",
     "text": [
      "The standard deviation of film length is 40.42633181855988\n"
     ]
    }
   ],
   "source": [
    "def stdev(numbers):\n",
    "        X_bar = np.mean(numbers)\n",
    "        N = len(numbers)\n",
    "        total_sum = 0\n",
    "        for X in numbers:\n",
    "            diff = X-X_bar\n",
    "            squared = diff**2\n",
    "            total_sum += squared\n",
    "        sigma = math.sqrt(total_sum / (N-1))\n",
    "        return sigma\n",
    "    \n",
    "    \n",
    "print('The standard deviation of film length is {}'.format(stdev(lengths)))\n"
   ]
  },
  {
   "cell_type": "code",
   "execution_count": null,
   "metadata": {},
   "outputs": [],
   "source": []
  },
  {
   "cell_type": "code",
   "execution_count": null,
   "metadata": {},
   "outputs": [],
   "source": []
  }
 ],
 "metadata": {
  "kernelspec": {
   "display_name": "Python 3",
   "language": "python",
   "name": "python3"
  },
  "language_info": {
   "codemirror_mode": {
    "name": "ipython",
    "version": 3
   },
   "file_extension": ".py",
   "mimetype": "text/x-python",
   "name": "python",
   "nbconvert_exporter": "python",
   "pygments_lexer": "ipython3",
   "version": "3.7.4"
  }
 },
 "nbformat": 4,
 "nbformat_minor": 2
}
